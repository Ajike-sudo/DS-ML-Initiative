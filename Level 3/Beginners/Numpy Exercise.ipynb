{
 "cells": [
  {
   "cell_type": "code",
   "execution_count": 1,
   "id": "46612460",
   "metadata": {},
   "outputs": [],
   "source": [
    "import numpy as np"
   ]
  },
  {
   "cell_type": "code",
   "execution_count": 2,
   "id": "400b4d1d",
   "metadata": {},
   "outputs": [
    {
     "name": "stdout",
     "output_type": "stream",
     "text": [
      "[[100 110]\n",
      " [120 130]\n",
      " [140 150]\n",
      " [160 170]\n",
      " [180 190]]\n"
     ]
    }
   ],
   "source": [
    "a = np.arange(100,200,10)\n",
    "a = a.reshape(5,2)\n",
    "print(a)"
   ]
  },
  {
   "cell_type": "code",
   "execution_count": 3,
   "id": "dbe5fe0a",
   "metadata": {},
   "outputs": [
    {
     "name": "stdout",
     "output_type": "stream",
     "text": [
      "[33 66 99]\n"
     ]
    }
   ],
   "source": [
    "sampleArray = np.array([[11 ,22, 33], [44, 55, 66], [77, 88, 99]])\n",
    "print(sampleArray[0:,2])"
   ]
  },
  {
   "cell_type": "code",
   "execution_count": 4,
   "id": "a3cf811c",
   "metadata": {},
   "outputs": [
    {
     "name": "stdout",
     "output_type": "stream",
     "text": [
      "[[20 39 33]\n",
      " [25 25 28]]\n"
     ]
    }
   ],
   "source": [
    "arrayOne = np.array([[5, 6, 9], [21 ,18, 27]])\n",
    "arrayTwo = np.array([[15 ,33, 24], [4 ,7, 1]])\n",
    "arrayThree = arrayOne + arrayTwo\n",
    "print(arrayThree)"
   ]
  },
  {
   "cell_type": "code",
   "execution_count": 5,
   "id": "fbba59bd",
   "metadata": {},
   "outputs": [
    {
     "name": "stdout",
     "output_type": "stream",
     "text": [
      "[[ 400 1521 1089]\n",
      " [ 625  625  784]]\n"
     ]
    }
   ],
   "source": [
    "print(np.square(arrayThree))"
   ]
  },
  {
   "cell_type": "code",
   "execution_count": null,
   "id": "1e49c6ec",
   "metadata": {},
   "outputs": [],
   "source": []
  }
 ],
 "metadata": {
  "kernelspec": {
   "display_name": "Python 3",
   "language": "python",
   "name": "python3"
  },
  "language_info": {
   "codemirror_mode": {
    "name": "ipython",
    "version": 3
   },
   "file_extension": ".py",
   "mimetype": "text/x-python",
   "name": "python",
   "nbconvert_exporter": "python",
   "pygments_lexer": "ipython3",
   "version": "3.9.5"
  }
 },
 "nbformat": 4,
 "nbformat_minor": 5
}
